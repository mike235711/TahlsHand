{
 "cells": [
  {
   "attachments": {},
   "cell_type": "markdown",
   "metadata": {},
   "source": [
    "# Training\n",
    "We dont need high precision predictions for uneven evaluations. Therefore I would say the important evaluations are between -300 and 300."
   ]
  },
  {
   "cell_type": "code",
   "execution_count": 16,
   "metadata": {},
   "outputs": [],
   "source": [
    "import pandas as pd\n",
    "data = pd.read_csv(\"data/quiet_data.csv\")"
   ]
  },
  {
   "cell_type": "code",
   "execution_count": 17,
   "metadata": {},
   "outputs": [
    {
     "data": {
      "text/html": [
       "<div>\n",
       "<style scoped>\n",
       "    .dataframe tbody tr th:only-of-type {\n",
       "        vertical-align: middle;\n",
       "    }\n",
       "\n",
       "    .dataframe tbody tr th {\n",
       "        vertical-align: top;\n",
       "    }\n",
       "\n",
       "    .dataframe thead th {\n",
       "        text-align: right;\n",
       "    }\n",
       "</style>\n",
       "<table border=\"1\" class=\"dataframe\">\n",
       "  <thead>\n",
       "    <tr style=\"text-align: right;\">\n",
       "      <th></th>\n",
       "      <th>FEN</th>\n",
       "      <th>Evaluation</th>\n",
       "    </tr>\n",
       "  </thead>\n",
       "  <tbody>\n",
       "    <tr>\n",
       "      <th>0</th>\n",
       "      <td>rnbqkbnr/pppppppp/8/8/8/5P2/PPPPP1PP/RNBQKBNR ...</td>\n",
       "      <td>72</td>\n",
       "    </tr>\n",
       "    <tr>\n",
       "      <th>1</th>\n",
       "      <td>rnbqkbnr/pppppp1p/8/6p1/8/5P2/PPPPP1PP/RNBQKBN...</td>\n",
       "      <td>108</td>\n",
       "    </tr>\n",
       "    <tr>\n",
       "      <th>2</th>\n",
       "      <td>rnbqkbnr/pppppp1p/8/6p1/8/2P2P2/PP1PP1PP/RNBQK...</td>\n",
       "      <td>-62</td>\n",
       "    </tr>\n",
       "    <tr>\n",
       "      <th>3</th>\n",
       "      <td>rnbqkbnr/pp1ppp1p/8/2p3p1/8/2P2P2/PP1PP1PP/RNB...</td>\n",
       "      <td>106</td>\n",
       "    </tr>\n",
       "    <tr>\n",
       "      <th>4</th>\n",
       "      <td>rnbqkbnr/pp1ppp1p/8/2p3p1/8/2P2P2/PP1PPKPP/RNB...</td>\n",
       "      <td>71</td>\n",
       "    </tr>\n",
       "    <tr>\n",
       "      <th>...</th>\n",
       "      <td>...</td>\n",
       "      <td>...</td>\n",
       "    </tr>\n",
       "    <tr>\n",
       "      <th>93605</th>\n",
       "      <td>rnbqkbnr/3ppppp/1p6/p1p5/2P4P/5P2/PP1PP1P1/RNB...</td>\n",
       "      <td>-6</td>\n",
       "    </tr>\n",
       "    <tr>\n",
       "      <th>93606</th>\n",
       "      <td>rnbqkbnr/3ppppp/1p6/p1p5/2P4P/1Q3P2/PP1PP1P1/R...</td>\n",
       "      <td>141</td>\n",
       "    </tr>\n",
       "    <tr>\n",
       "      <th>93607</th>\n",
       "      <td>rnbq2nr/5pbp/1p1p1k2/p1p3N1/2P1P2P/5P2/PP1P2P1...</td>\n",
       "      <td>604</td>\n",
       "    </tr>\n",
       "    <tr>\n",
       "      <th>93608</th>\n",
       "      <td>1Bq1r3/5p1p/1n4k1/2p1Pn1P/p1Pp4/P2Pb1P1/6N1/3B...</td>\n",
       "      <td>1081</td>\n",
       "    </tr>\n",
       "    <tr>\n",
       "      <th>93609</th>\n",
       "      <td>1Bq1r3/5p1p/1n6/2p1PnkP/p1Pp4/P2P2P1/3bB1N1/5K...</td>\n",
       "      <td>-894</td>\n",
       "    </tr>\n",
       "  </tbody>\n",
       "</table>\n",
       "<p>93610 rows × 2 columns</p>\n",
       "</div>"
      ],
      "text/plain": [
       "                                                     FEN  Evaluation\n",
       "0      rnbqkbnr/pppppppp/8/8/8/5P2/PPPPP1PP/RNBQKBNR ...          72\n",
       "1      rnbqkbnr/pppppp1p/8/6p1/8/5P2/PPPPP1PP/RNBQKBN...         108\n",
       "2      rnbqkbnr/pppppp1p/8/6p1/8/2P2P2/PP1PP1PP/RNBQK...         -62\n",
       "3      rnbqkbnr/pp1ppp1p/8/2p3p1/8/2P2P2/PP1PP1PP/RNB...         106\n",
       "4      rnbqkbnr/pp1ppp1p/8/2p3p1/8/2P2P2/PP1PPKPP/RNB...          71\n",
       "...                                                  ...         ...\n",
       "93605  rnbqkbnr/3ppppp/1p6/p1p5/2P4P/5P2/PP1PP1P1/RNB...          -6\n",
       "93606  rnbqkbnr/3ppppp/1p6/p1p5/2P4P/1Q3P2/PP1PP1P1/R...         141\n",
       "93607  rnbq2nr/5pbp/1p1p1k2/p1p3N1/2P1P2P/5P2/PP1P2P1...         604\n",
       "93608  1Bq1r3/5p1p/1n4k1/2p1Pn1P/p1Pp4/P2Pb1P1/6N1/3B...        1081\n",
       "93609  1Bq1r3/5p1p/1n6/2p1PnkP/p1Pp4/P2P2P1/3bB1N1/5K...        -894\n",
       "\n",
       "[93610 rows x 2 columns]"
      ]
     },
     "execution_count": 17,
     "metadata": {},
     "output_type": "execute_result"
    }
   ],
   "source": [
    "data"
   ]
  }
 ],
 "metadata": {
  "kernelspec": {
   "display_name": "chess_env",
   "language": "python",
   "name": "python3"
  },
  "language_info": {
   "codemirror_mode": {
    "name": "ipython",
    "version": 3
   },
   "file_extension": ".py",
   "mimetype": "text/x-python",
   "name": "python",
   "nbconvert_exporter": "python",
   "pygments_lexer": "ipython3",
   "version": "3.9.16"
  },
  "orig_nbformat": 4
 },
 "nbformat": 4,
 "nbformat_minor": 2
}
